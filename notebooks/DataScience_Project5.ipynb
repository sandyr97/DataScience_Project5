{
 "cells": [
  {
   "cell_type": "markdown",
   "metadata": {},
   "source": [
    "# World Wide Products Inc"
   ]
  },
  {
   "cell_type": "code",
   "execution_count": 1,
   "metadata": {},
   "outputs": [],
   "source": [
    "import pandas as pd\n",
    "import numpy as np\n",
    "import matplotlib.pyplot as plt\n",
    "import matplotlib.dates as md"
   ]
  },
  {
   "cell_type": "code",
   "execution_count": 2,
   "metadata": {},
   "outputs": [
    {
     "data": {
      "text/html": [
       "<div>\n",
       "<style scoped>\n",
       "    .dataframe tbody tr th:only-of-type {\n",
       "        vertical-align: middle;\n",
       "    }\n",
       "\n",
       "    .dataframe tbody tr th {\n",
       "        vertical-align: top;\n",
       "    }\n",
       "\n",
       "    .dataframe thead th {\n",
       "        text-align: right;\n",
       "    }\n",
       "</style>\n",
       "<table border=\"1\" class=\"dataframe\">\n",
       "  <thead>\n",
       "    <tr style=\"text-align: right;\">\n",
       "      <th></th>\n",
       "      <th>Product_Code</th>\n",
       "      <th>Warehouse</th>\n",
       "      <th>Product_Category</th>\n",
       "      <th>Date</th>\n",
       "      <th>Order_Demand</th>\n",
       "    </tr>\n",
       "  </thead>\n",
       "  <tbody>\n",
       "    <tr>\n",
       "      <th>0</th>\n",
       "      <td>Product_0993</td>\n",
       "      <td>Whse_J</td>\n",
       "      <td>Category_028</td>\n",
       "      <td>2012/7/27</td>\n",
       "      <td>100</td>\n",
       "    </tr>\n",
       "    <tr>\n",
       "      <th>1</th>\n",
       "      <td>Product_0979</td>\n",
       "      <td>Whse_J</td>\n",
       "      <td>Category_028</td>\n",
       "      <td>2012/1/19</td>\n",
       "      <td>500</td>\n",
       "    </tr>\n",
       "    <tr>\n",
       "      <th>2</th>\n",
       "      <td>Product_0979</td>\n",
       "      <td>Whse_J</td>\n",
       "      <td>Category_028</td>\n",
       "      <td>2012/2/3</td>\n",
       "      <td>500</td>\n",
       "    </tr>\n",
       "    <tr>\n",
       "      <th>3</th>\n",
       "      <td>Product_0979</td>\n",
       "      <td>Whse_J</td>\n",
       "      <td>Category_028</td>\n",
       "      <td>2012/2/9</td>\n",
       "      <td>500</td>\n",
       "    </tr>\n",
       "    <tr>\n",
       "      <th>4</th>\n",
       "      <td>Product_0979</td>\n",
       "      <td>Whse_J</td>\n",
       "      <td>Category_028</td>\n",
       "      <td>2012/3/2</td>\n",
       "      <td>500</td>\n",
       "    </tr>\n",
       "    <tr>\n",
       "      <th>5</th>\n",
       "      <td>Product_0979</td>\n",
       "      <td>Whse_J</td>\n",
       "      <td>Category_028</td>\n",
       "      <td>2012/4/19</td>\n",
       "      <td>500</td>\n",
       "    </tr>\n",
       "    <tr>\n",
       "      <th>6</th>\n",
       "      <td>Product_0979</td>\n",
       "      <td>Whse_J</td>\n",
       "      <td>Category_028</td>\n",
       "      <td>2012/6/5</td>\n",
       "      <td>500</td>\n",
       "    </tr>\n",
       "    <tr>\n",
       "      <th>7</th>\n",
       "      <td>Product_0979</td>\n",
       "      <td>Whse_J</td>\n",
       "      <td>Category_028</td>\n",
       "      <td>2012/6/27</td>\n",
       "      <td>500</td>\n",
       "    </tr>\n",
       "    <tr>\n",
       "      <th>8</th>\n",
       "      <td>Product_0979</td>\n",
       "      <td>Whse_J</td>\n",
       "      <td>Category_028</td>\n",
       "      <td>2012/7/23</td>\n",
       "      <td>500</td>\n",
       "    </tr>\n",
       "    <tr>\n",
       "      <th>9</th>\n",
       "      <td>Product_0979</td>\n",
       "      <td>Whse_J</td>\n",
       "      <td>Category_028</td>\n",
       "      <td>2012/8/29</td>\n",
       "      <td>500</td>\n",
       "    </tr>\n",
       "  </tbody>\n",
       "</table>\n",
       "</div>"
      ],
      "text/plain": [
       "   Product_Code Warehouse Product_Category       Date Order_Demand\n",
       "0  Product_0993    Whse_J     Category_028  2012/7/27         100 \n",
       "1  Product_0979    Whse_J     Category_028  2012/1/19         500 \n",
       "2  Product_0979    Whse_J     Category_028   2012/2/3         500 \n",
       "3  Product_0979    Whse_J     Category_028   2012/2/9         500 \n",
       "4  Product_0979    Whse_J     Category_028   2012/3/2         500 \n",
       "5  Product_0979    Whse_J     Category_028  2012/4/19         500 \n",
       "6  Product_0979    Whse_J     Category_028   2012/6/5         500 \n",
       "7  Product_0979    Whse_J     Category_028  2012/6/27         500 \n",
       "8  Product_0979    Whse_J     Category_028  2012/7/23         500 \n",
       "9  Product_0979    Whse_J     Category_028  2012/8/29         500 "
      ]
     },
     "execution_count": 2,
     "metadata": {},
     "output_type": "execute_result"
    }
   ],
   "source": [
    "df=pd.read_csv(\"../data/historicalProductDemand.csv\",infer_datetime_format = True)\n",
    "df.head(10)"
   ]
  },
  {
   "cell_type": "markdown",
   "metadata": {},
   "source": [
    "# Clean Dataset:"
   ]
  },
  {
   "cell_type": "code",
   "execution_count": 3,
   "metadata": {},
   "outputs": [],
   "source": [
    "df.dropna(inplace=True)"
   ]
  },
  {
   "cell_type": "markdown",
   "metadata": {},
   "source": [
    "## Chosing a Product:"
   ]
  },
  {
   "cell_type": "code",
   "execution_count": 4,
   "metadata": {},
   "outputs": [
    {
     "data": {
      "text/html": [
       "<div>\n",
       "<style scoped>\n",
       "    .dataframe tbody tr th:only-of-type {\n",
       "        vertical-align: middle;\n",
       "    }\n",
       "\n",
       "    .dataframe tbody tr th {\n",
       "        vertical-align: top;\n",
       "    }\n",
       "\n",
       "    .dataframe thead th {\n",
       "        text-align: right;\n",
       "    }\n",
       "</style>\n",
       "<table border=\"1\" class=\"dataframe\">\n",
       "  <thead>\n",
       "    <tr style=\"text-align: right;\">\n",
       "      <th></th>\n",
       "      <th>Product_Code</th>\n",
       "      <th>Warehouse</th>\n",
       "      <th>Product_Category</th>\n",
       "      <th>Date</th>\n",
       "      <th>Order_Demand</th>\n",
       "      <th>freq</th>\n",
       "    </tr>\n",
       "  </thead>\n",
       "  <tbody>\n",
       "    <tr>\n",
       "      <th>0</th>\n",
       "      <td>Product_0993</td>\n",
       "      <td>Whse_J</td>\n",
       "      <td>Category_028</td>\n",
       "      <td>2012/7/27</td>\n",
       "      <td>100</td>\n",
       "      <td>312</td>\n",
       "    </tr>\n",
       "    <tr>\n",
       "      <th>1</th>\n",
       "      <td>Product_0979</td>\n",
       "      <td>Whse_J</td>\n",
       "      <td>Category_028</td>\n",
       "      <td>2012/1/19</td>\n",
       "      <td>500</td>\n",
       "      <td>3889</td>\n",
       "    </tr>\n",
       "    <tr>\n",
       "      <th>2</th>\n",
       "      <td>Product_0979</td>\n",
       "      <td>Whse_J</td>\n",
       "      <td>Category_028</td>\n",
       "      <td>2012/2/3</td>\n",
       "      <td>500</td>\n",
       "      <td>3889</td>\n",
       "    </tr>\n",
       "    <tr>\n",
       "      <th>3</th>\n",
       "      <td>Product_0979</td>\n",
       "      <td>Whse_J</td>\n",
       "      <td>Category_028</td>\n",
       "      <td>2012/2/9</td>\n",
       "      <td>500</td>\n",
       "      <td>3889</td>\n",
       "    </tr>\n",
       "    <tr>\n",
       "      <th>4</th>\n",
       "      <td>Product_0979</td>\n",
       "      <td>Whse_J</td>\n",
       "      <td>Category_028</td>\n",
       "      <td>2012/3/2</td>\n",
       "      <td>500</td>\n",
       "      <td>3889</td>\n",
       "    </tr>\n",
       "    <tr>\n",
       "      <th>5</th>\n",
       "      <td>Product_0979</td>\n",
       "      <td>Whse_J</td>\n",
       "      <td>Category_028</td>\n",
       "      <td>2012/4/19</td>\n",
       "      <td>500</td>\n",
       "      <td>3889</td>\n",
       "    </tr>\n",
       "    <tr>\n",
       "      <th>6</th>\n",
       "      <td>Product_0979</td>\n",
       "      <td>Whse_J</td>\n",
       "      <td>Category_028</td>\n",
       "      <td>2012/6/5</td>\n",
       "      <td>500</td>\n",
       "      <td>3889</td>\n",
       "    </tr>\n",
       "    <tr>\n",
       "      <th>7</th>\n",
       "      <td>Product_0979</td>\n",
       "      <td>Whse_J</td>\n",
       "      <td>Category_028</td>\n",
       "      <td>2012/6/27</td>\n",
       "      <td>500</td>\n",
       "      <td>3889</td>\n",
       "    </tr>\n",
       "    <tr>\n",
       "      <th>8</th>\n",
       "      <td>Product_0979</td>\n",
       "      <td>Whse_J</td>\n",
       "      <td>Category_028</td>\n",
       "      <td>2012/7/23</td>\n",
       "      <td>500</td>\n",
       "      <td>3889</td>\n",
       "    </tr>\n",
       "    <tr>\n",
       "      <th>9</th>\n",
       "      <td>Product_0979</td>\n",
       "      <td>Whse_J</td>\n",
       "      <td>Category_028</td>\n",
       "      <td>2012/8/29</td>\n",
       "      <td>500</td>\n",
       "      <td>3889</td>\n",
       "    </tr>\n",
       "  </tbody>\n",
       "</table>\n",
       "</div>"
      ],
      "text/plain": [
       "   Product_Code Warehouse Product_Category       Date Order_Demand  freq\n",
       "0  Product_0993    Whse_J     Category_028  2012/7/27         100    312\n",
       "1  Product_0979    Whse_J     Category_028  2012/1/19         500   3889\n",
       "2  Product_0979    Whse_J     Category_028   2012/2/3         500   3889\n",
       "3  Product_0979    Whse_J     Category_028   2012/2/9         500   3889\n",
       "4  Product_0979    Whse_J     Category_028   2012/3/2         500   3889\n",
       "5  Product_0979    Whse_J     Category_028  2012/4/19         500   3889\n",
       "6  Product_0979    Whse_J     Category_028   2012/6/5         500   3889\n",
       "7  Product_0979    Whse_J     Category_028  2012/6/27         500   3889\n",
       "8  Product_0979    Whse_J     Category_028  2012/7/23         500   3889\n",
       "9  Product_0979    Whse_J     Category_028  2012/8/29         500   3889"
      ]
     },
     "execution_count": 4,
     "metadata": {},
     "output_type": "execute_result"
    }
   ],
   "source": [
    "df['freq'] = df.groupby('Product_Code')['Product_Code'].transform('count')\n",
    "df.head(10)"
   ]
  },
  {
   "cell_type": "code",
   "execution_count": 5,
   "metadata": {},
   "outputs": [
    {
     "name": "stdout",
     "output_type": "stream",
     "text": [
      "        Product_Code Warehouse Product_Category      Date Order_Demand   freq\n",
      "261017  Product_1359    Whse_J     Category_019  2013/6/4        5000   16936\n"
     ]
    }
   ],
   "source": [
    "print(df.sort_values(by='freq',ascending=False).head(1))"
   ]
  },
  {
   "cell_type": "markdown",
   "metadata": {},
   "source": [
    "I chose product 1359 because it has the most data points"
   ]
  },
  {
   "cell_type": "code",
   "execution_count": 6,
   "metadata": {},
   "outputs": [
    {
     "data": {
      "text/html": [
       "<div>\n",
       "<style scoped>\n",
       "    .dataframe tbody tr th:only-of-type {\n",
       "        vertical-align: middle;\n",
       "    }\n",
       "\n",
       "    .dataframe tbody tr th {\n",
       "        vertical-align: top;\n",
       "    }\n",
       "\n",
       "    .dataframe thead th {\n",
       "        text-align: right;\n",
       "    }\n",
       "</style>\n",
       "<table border=\"1\" class=\"dataframe\">\n",
       "  <thead>\n",
       "    <tr style=\"text-align: right;\">\n",
       "      <th></th>\n",
       "      <th>Product_Code</th>\n",
       "      <th>Warehouse</th>\n",
       "      <th>Product_Category</th>\n",
       "      <th>Date</th>\n",
       "      <th>Order_Demand</th>\n",
       "      <th>freq</th>\n",
       "    </tr>\n",
       "  </thead>\n",
       "  <tbody>\n",
       "    <tr>\n",
       "      <th>0</th>\n",
       "      <td>Product_1359</td>\n",
       "      <td>Whse_J</td>\n",
       "      <td>Category_019</td>\n",
       "      <td>2012/4/18</td>\n",
       "      <td>80000</td>\n",
       "      <td>16936</td>\n",
       "    </tr>\n",
       "    <tr>\n",
       "      <th>1</th>\n",
       "      <td>Product_1359</td>\n",
       "      <td>Whse_J</td>\n",
       "      <td>Category_019</td>\n",
       "      <td>2012/5/21</td>\n",
       "      <td>70000</td>\n",
       "      <td>16936</td>\n",
       "    </tr>\n",
       "    <tr>\n",
       "      <th>2</th>\n",
       "      <td>Product_1359</td>\n",
       "      <td>Whse_J</td>\n",
       "      <td>Category_019</td>\n",
       "      <td>2012/6/26</td>\n",
       "      <td>80000</td>\n",
       "      <td>16936</td>\n",
       "    </tr>\n",
       "    <tr>\n",
       "      <th>3</th>\n",
       "      <td>Product_1359</td>\n",
       "      <td>Whse_J</td>\n",
       "      <td>Category_019</td>\n",
       "      <td>2012/7/17</td>\n",
       "      <td>100000</td>\n",
       "      <td>16936</td>\n",
       "    </tr>\n",
       "    <tr>\n",
       "      <th>4</th>\n",
       "      <td>Product_1359</td>\n",
       "      <td>Whse_J</td>\n",
       "      <td>Category_019</td>\n",
       "      <td>2012/8/24</td>\n",
       "      <td>100000</td>\n",
       "      <td>16936</td>\n",
       "    </tr>\n",
       "    <tr>\n",
       "      <th>5</th>\n",
       "      <td>Product_1359</td>\n",
       "      <td>Whse_J</td>\n",
       "      <td>Category_019</td>\n",
       "      <td>2012/10/4</td>\n",
       "      <td>80000</td>\n",
       "      <td>16936</td>\n",
       "    </tr>\n",
       "    <tr>\n",
       "      <th>6</th>\n",
       "      <td>Product_1359</td>\n",
       "      <td>Whse_J</td>\n",
       "      <td>Category_019</td>\n",
       "      <td>2012/10/29</td>\n",
       "      <td>80000</td>\n",
       "      <td>16936</td>\n",
       "    </tr>\n",
       "    <tr>\n",
       "      <th>7</th>\n",
       "      <td>Product_1359</td>\n",
       "      <td>Whse_J</td>\n",
       "      <td>Category_019</td>\n",
       "      <td>2012/1/12</td>\n",
       "      <td>84000</td>\n",
       "      <td>16936</td>\n",
       "    </tr>\n",
       "    <tr>\n",
       "      <th>8</th>\n",
       "      <td>Product_1359</td>\n",
       "      <td>Whse_J</td>\n",
       "      <td>Category_019</td>\n",
       "      <td>2012/1/20</td>\n",
       "      <td>1000</td>\n",
       "      <td>16936</td>\n",
       "    </tr>\n",
       "    <tr>\n",
       "      <th>9</th>\n",
       "      <td>Product_1359</td>\n",
       "      <td>Whse_J</td>\n",
       "      <td>Category_019</td>\n",
       "      <td>2012/2/3</td>\n",
       "      <td>1000</td>\n",
       "      <td>16936</td>\n",
       "    </tr>\n",
       "  </tbody>\n",
       "</table>\n",
       "</div>"
      ],
      "text/plain": [
       "   Product_Code Warehouse Product_Category        Date Order_Demand   freq\n",
       "0  Product_1359    Whse_J     Category_019   2012/4/18       80000   16936\n",
       "1  Product_1359    Whse_J     Category_019   2012/5/21       70000   16936\n",
       "2  Product_1359    Whse_J     Category_019   2012/6/26       80000   16936\n",
       "3  Product_1359    Whse_J     Category_019   2012/7/17      100000   16936\n",
       "4  Product_1359    Whse_J     Category_019   2012/8/24      100000   16936\n",
       "5  Product_1359    Whse_J     Category_019   2012/10/4       80000   16936\n",
       "6  Product_1359    Whse_J     Category_019  2012/10/29       80000   16936\n",
       "7  Product_1359    Whse_J     Category_019   2012/1/12       84000   16936\n",
       "8  Product_1359    Whse_J     Category_019   2012/1/20        1000   16936\n",
       "9  Product_1359    Whse_J     Category_019    2012/2/3        1000   16936"
      ]
     },
     "execution_count": 6,
     "metadata": {},
     "output_type": "execute_result"
    }
   ],
   "source": [
    "df_Product=df[df.Product_Code == \"Product_1359\"]\n",
    "df_Product = df_Product.reset_index(drop=True)\n",
    "df_Product.head(10)"
   ]
  },
  {
   "cell_type": "markdown",
   "metadata": {},
   "source": [
    "## Clean Product 1359 Data:"
   ]
  },
  {
   "cell_type": "code",
   "execution_count": 7,
   "metadata": {},
   "outputs": [
    {
     "name": "stdout",
     "output_type": "stream",
     "text": [
      "   Product_Code Warehouse Product_Category        Date Order_Demand   freq\n",
      "0  Product_1359    Whse_J     Category_019   2012/4/18       80000   16936\n",
      "1  Product_1359    Whse_J     Category_019   2012/5/21       70000   16936\n",
      "2  Product_1359    Whse_J     Category_019   2012/6/26       80000   16936\n",
      "3  Product_1359    Whse_J     Category_019   2012/7/17      100000   16936\n",
      "4  Product_1359    Whse_J     Category_019   2012/8/24      100000   16936\n",
      "5  Product_1359    Whse_J     Category_019   2012/10/4       80000   16936\n",
      "6  Product_1359    Whse_J     Category_019  2012/10/29       80000   16936\n",
      "7  Product_1359    Whse_J     Category_019   2012/1/12       84000   16936\n",
      "8  Product_1359    Whse_J     Category_019   2012/1/20        1000   16936\n",
      "9  Product_1359    Whse_J     Category_019    2012/2/3        1000   16936\n"
     ]
    }
   ],
   "source": [
    "df_Product['Order_Demand'] = df_Product['Order_Demand'].str.replace(r\"\\(.*\\)\",\"\")\n",
    "print(df_Product.head(10))\n"
   ]
  },
  {
   "cell_type": "code",
   "execution_count": 8,
   "metadata": {},
   "outputs": [
    {
     "name": "stdout",
     "output_type": "stream",
     "text": [
      "Empty DataFrame\n",
      "Columns: [Product_Code, Warehouse, Product_Category, Date, Order_Demand, freq]\n",
      "Index: []\n"
     ]
    }
   ],
   "source": [
    "df_Product['Date'] = pd.to_datetime(df_Product['Date'])\n",
    "print (df_Product[pd.to_datetime(df_Product['Date'], errors='coerce').isnull()])"
   ]
  },
  {
   "cell_type": "markdown",
   "metadata": {},
   "source": [
    "# Feature Engineering"
   ]
  },
  {
   "cell_type": "code",
   "execution_count": 9,
   "metadata": {},
   "outputs": [],
   "source": [
    "from sklearn import preprocessing\n",
    "le = preprocessing.LabelEncoder()\n",
    "df_Product['Order_Demand'] = le.fit_transform(df_Product[\"Order_Demand\"].astype(str))\n",
    "df_Product['Code'] = df_Product['Product_Code'].map(lambda x: x.split('_', 1)[-1])\n",
    "df_Product['Warehouse'] = df_Product['Warehouse'].map(lambda x: x.split('_', 1)[-1])\n",
    "df_Product['Category'] = df_Product['Product_Category'].map(lambda x: x.split('_', 1)[-1])\n",
    "df_Product['Code'] = df_Product['Code'].astype(int)\n",
    "df_Product['WarehouseLE'] = le.fit_transform(df_Product[\"Warehouse\"].astype(str))\n",
    "df_Product['CategoryLE'] = le.fit_transform(df_Product[\"Category\"].astype(str))"
   ]
  },
  {
   "cell_type": "code",
   "execution_count": 10,
   "metadata": {},
   "outputs": [
    {
     "data": {
      "text/plain": [
       "Product_Code                object\n",
       "Warehouse                   object\n",
       "Product_Category            object\n",
       "Date                datetime64[ns]\n",
       "Order_Demand                 int32\n",
       "freq                         int64\n",
       "Code                         int32\n",
       "Category                    object\n",
       "WarehouseLE                  int32\n",
       "CategoryLE                   int32\n",
       "dtype: object"
      ]
     },
     "execution_count": 10,
     "metadata": {},
     "output_type": "execute_result"
    }
   ],
   "source": [
    "df_Product.dtypes"
   ]
  },
  {
   "cell_type": "code",
   "execution_count": 11,
   "metadata": {},
   "outputs": [
    {
     "data": {
      "text/html": [
       "<div>\n",
       "<style scoped>\n",
       "    .dataframe tbody tr th:only-of-type {\n",
       "        vertical-align: middle;\n",
       "    }\n",
       "\n",
       "    .dataframe tbody tr th {\n",
       "        vertical-align: top;\n",
       "    }\n",
       "\n",
       "    .dataframe thead th {\n",
       "        text-align: right;\n",
       "    }\n",
       "</style>\n",
       "<table border=\"1\" class=\"dataframe\">\n",
       "  <thead>\n",
       "    <tr style=\"text-align: right;\">\n",
       "      <th></th>\n",
       "      <th>Product_Code</th>\n",
       "      <th>Warehouse</th>\n",
       "      <th>Product_Category</th>\n",
       "      <th>Date</th>\n",
       "      <th>Order_Demand</th>\n",
       "      <th>freq</th>\n",
       "      <th>Code</th>\n",
       "      <th>Category</th>\n",
       "      <th>WarehouseLE</th>\n",
       "      <th>CategoryLE</th>\n",
       "      <th>day</th>\n",
       "      <th>month</th>\n",
       "      <th>year</th>\n",
       "      <th>unixTime</th>\n",
       "    </tr>\n",
       "  </thead>\n",
       "  <tbody>\n",
       "    <tr>\n",
       "      <th>0</th>\n",
       "      <td>Product_1359</td>\n",
       "      <td>J</td>\n",
       "      <td>Category_019</td>\n",
       "      <td>2012-04-18</td>\n",
       "      <td>132</td>\n",
       "      <td>16936</td>\n",
       "      <td>1359</td>\n",
       "      <td>019</td>\n",
       "      <td>0</td>\n",
       "      <td>0</td>\n",
       "      <td>18</td>\n",
       "      <td>4</td>\n",
       "      <td>2012</td>\n",
       "      <td>1.334707e+12</td>\n",
       "    </tr>\n",
       "    <tr>\n",
       "      <th>1</th>\n",
       "      <td>Product_1359</td>\n",
       "      <td>J</td>\n",
       "      <td>Category_019</td>\n",
       "      <td>2012-05-21</td>\n",
       "      <td>119</td>\n",
       "      <td>16936</td>\n",
       "      <td>1359</td>\n",
       "      <td>019</td>\n",
       "      <td>0</td>\n",
       "      <td>0</td>\n",
       "      <td>21</td>\n",
       "      <td>5</td>\n",
       "      <td>2012</td>\n",
       "      <td>1.337558e+12</td>\n",
       "    </tr>\n",
       "    <tr>\n",
       "      <th>2</th>\n",
       "      <td>Product_1359</td>\n",
       "      <td>J</td>\n",
       "      <td>Category_019</td>\n",
       "      <td>2012-06-26</td>\n",
       "      <td>132</td>\n",
       "      <td>16936</td>\n",
       "      <td>1359</td>\n",
       "      <td>019</td>\n",
       "      <td>0</td>\n",
       "      <td>0</td>\n",
       "      <td>26</td>\n",
       "      <td>6</td>\n",
       "      <td>2012</td>\n",
       "      <td>1.340669e+12</td>\n",
       "    </tr>\n",
       "    <tr>\n",
       "      <th>3</th>\n",
       "      <td>Product_1359</td>\n",
       "      <td>J</td>\n",
       "      <td>Category_019</td>\n",
       "      <td>2012-07-17</td>\n",
       "      <td>4</td>\n",
       "      <td>16936</td>\n",
       "      <td>1359</td>\n",
       "      <td>019</td>\n",
       "      <td>0</td>\n",
       "      <td>0</td>\n",
       "      <td>17</td>\n",
       "      <td>7</td>\n",
       "      <td>2012</td>\n",
       "      <td>1.342483e+12</td>\n",
       "    </tr>\n",
       "    <tr>\n",
       "      <th>4</th>\n",
       "      <td>Product_1359</td>\n",
       "      <td>J</td>\n",
       "      <td>Category_019</td>\n",
       "      <td>2012-08-24</td>\n",
       "      <td>4</td>\n",
       "      <td>16936</td>\n",
       "      <td>1359</td>\n",
       "      <td>019</td>\n",
       "      <td>0</td>\n",
       "      <td>0</td>\n",
       "      <td>24</td>\n",
       "      <td>8</td>\n",
       "      <td>2012</td>\n",
       "      <td>1.345766e+12</td>\n",
       "    </tr>\n",
       "    <tr>\n",
       "      <th>5</th>\n",
       "      <td>Product_1359</td>\n",
       "      <td>J</td>\n",
       "      <td>Category_019</td>\n",
       "      <td>2012-10-04</td>\n",
       "      <td>132</td>\n",
       "      <td>16936</td>\n",
       "      <td>1359</td>\n",
       "      <td>019</td>\n",
       "      <td>0</td>\n",
       "      <td>0</td>\n",
       "      <td>4</td>\n",
       "      <td>10</td>\n",
       "      <td>2012</td>\n",
       "      <td>1.349309e+12</td>\n",
       "    </tr>\n",
       "    <tr>\n",
       "      <th>6</th>\n",
       "      <td>Product_1359</td>\n",
       "      <td>J</td>\n",
       "      <td>Category_019</td>\n",
       "      <td>2012-10-29</td>\n",
       "      <td>132</td>\n",
       "      <td>16936</td>\n",
       "      <td>1359</td>\n",
       "      <td>019</td>\n",
       "      <td>0</td>\n",
       "      <td>0</td>\n",
       "      <td>29</td>\n",
       "      <td>10</td>\n",
       "      <td>2012</td>\n",
       "      <td>1.351469e+12</td>\n",
       "    </tr>\n",
       "    <tr>\n",
       "      <th>7</th>\n",
       "      <td>Product_1359</td>\n",
       "      <td>J</td>\n",
       "      <td>Category_019</td>\n",
       "      <td>2012-01-12</td>\n",
       "      <td>136</td>\n",
       "      <td>16936</td>\n",
       "      <td>1359</td>\n",
       "      <td>019</td>\n",
       "      <td>0</td>\n",
       "      <td>0</td>\n",
       "      <td>12</td>\n",
       "      <td>1</td>\n",
       "      <td>2012</td>\n",
       "      <td>1.326326e+12</td>\n",
       "    </tr>\n",
       "    <tr>\n",
       "      <th>8</th>\n",
       "      <td>Product_1359</td>\n",
       "      <td>J</td>\n",
       "      <td>Category_019</td>\n",
       "      <td>2012-01-20</td>\n",
       "      <td>2</td>\n",
       "      <td>16936</td>\n",
       "      <td>1359</td>\n",
       "      <td>019</td>\n",
       "      <td>0</td>\n",
       "      <td>0</td>\n",
       "      <td>20</td>\n",
       "      <td>1</td>\n",
       "      <td>2012</td>\n",
       "      <td>1.327018e+12</td>\n",
       "    </tr>\n",
       "    <tr>\n",
       "      <th>9</th>\n",
       "      <td>Product_1359</td>\n",
       "      <td>J</td>\n",
       "      <td>Category_019</td>\n",
       "      <td>2012-02-03</td>\n",
       "      <td>2</td>\n",
       "      <td>16936</td>\n",
       "      <td>1359</td>\n",
       "      <td>019</td>\n",
       "      <td>0</td>\n",
       "      <td>0</td>\n",
       "      <td>3</td>\n",
       "      <td>2</td>\n",
       "      <td>2012</td>\n",
       "      <td>1.328227e+12</td>\n",
       "    </tr>\n",
       "  </tbody>\n",
       "</table>\n",
       "</div>"
      ],
      "text/plain": [
       "   Product_Code Warehouse Product_Category       Date  Order_Demand   freq  \\\n",
       "0  Product_1359         J     Category_019 2012-04-18           132  16936   \n",
       "1  Product_1359         J     Category_019 2012-05-21           119  16936   \n",
       "2  Product_1359         J     Category_019 2012-06-26           132  16936   \n",
       "3  Product_1359         J     Category_019 2012-07-17             4  16936   \n",
       "4  Product_1359         J     Category_019 2012-08-24             4  16936   \n",
       "5  Product_1359         J     Category_019 2012-10-04           132  16936   \n",
       "6  Product_1359         J     Category_019 2012-10-29           132  16936   \n",
       "7  Product_1359         J     Category_019 2012-01-12           136  16936   \n",
       "8  Product_1359         J     Category_019 2012-01-20             2  16936   \n",
       "9  Product_1359         J     Category_019 2012-02-03             2  16936   \n",
       "\n",
       "   Code Category  WarehouseLE  CategoryLE  day  month  year      unixTime  \n",
       "0  1359      019            0           0   18      4  2012  1.334707e+12  \n",
       "1  1359      019            0           0   21      5  2012  1.337558e+12  \n",
       "2  1359      019            0           0   26      6  2012  1.340669e+12  \n",
       "3  1359      019            0           0   17      7  2012  1.342483e+12  \n",
       "4  1359      019            0           0   24      8  2012  1.345766e+12  \n",
       "5  1359      019            0           0    4     10  2012  1.349309e+12  \n",
       "6  1359      019            0           0   29     10  2012  1.351469e+12  \n",
       "7  1359      019            0           0   12      1  2012  1.326326e+12  \n",
       "8  1359      019            0           0   20      1  2012  1.327018e+12  \n",
       "9  1359      019            0           0    3      2  2012  1.328227e+12  "
      ]
     },
     "execution_count": 11,
     "metadata": {},
     "output_type": "execute_result"
    }
   ],
   "source": [
    "df_Product['day'] = pd.DatetimeIndex(df_Product['Date']).day\n",
    "df_Product['month'] = pd.DatetimeIndex(df_Product['Date']).month\n",
    "df_Product['year'] = pd.DatetimeIndex(df_Product['Date']).year\n",
    "dt=df_Product['Date']\n",
    "dt = pd.DatetimeIndex ( dt ).astype ( np.int64 )/1000000\n",
    "df_Product['unixTime']=dt\n",
    "df_Product.head(10)"
   ]
  },
  {
   "cell_type": "markdown",
   "metadata": {},
   "source": [
    "# Visualization"
   ]
  },
  {
   "cell_type": "code",
   "execution_count": 12,
   "metadata": {},
   "outputs": [
    {
     "data": {
      "image/png": "[encoded data removed]",
      "text/plain": [
       "<Figure size 432x288 with 1 Axes>"
      ]
     },
     "metadata": {},
     "output_type": "display_data"
    }
   ],
   "source": [
    "fig = plt.figure()\n",
    "ax= fig.add_subplot(1,1,1)\n",
    "ax.scatter(df_Product['unixTime'],df_Product['Order_Demand'], marker='.')\n",
    "plt.xlim(1.40e+12, 1.4075e+12)\n",
    "ax.set_ylabel('Order Demand');\n",
    "ax.set_xlabel('Date');"
   ]
  },
  {
   "cell_type": "markdown",
   "metadata": {},
   "source": [
    "Many data points occur at the same time so I am going to find the average for each time"
   ]
  },
  {
   "cell_type": "code",
   "execution_count": 13,
   "metadata": {},
   "outputs": [
    {
     "data": {
      "text/html": [
       "<div>\n",
       "<style scoped>\n",
       "    .dataframe tbody tr th:only-of-type {\n",
       "        vertical-align: middle;\n",
       "    }\n",
       "\n",
       "    .dataframe tbody tr th {\n",
       "        vertical-align: top;\n",
       "    }\n",
       "\n",
       "    .dataframe thead th {\n",
       "        text-align: right;\n",
       "    }\n",
       "</style>\n",
       "<table border=\"1\" class=\"dataframe\">\n",
       "  <thead>\n",
       "    <tr style=\"text-align: right;\">\n",
       "      <th></th>\n",
       "      <th>Date</th>\n",
       "      <th>Order_Demand</th>\n",
       "      <th>unixTime</th>\n",
       "    </tr>\n",
       "  </thead>\n",
       "  <tbody>\n",
       "    <tr>\n",
       "      <th>0</th>\n",
       "      <td>2012-01-05</td>\n",
       "      <td>50.125000</td>\n",
       "      <td>1.325722e+12</td>\n",
       "    </tr>\n",
       "    <tr>\n",
       "      <th>1</th>\n",
       "      <td>2012-01-06</td>\n",
       "      <td>66.500000</td>\n",
       "      <td>1.325808e+12</td>\n",
       "    </tr>\n",
       "    <tr>\n",
       "      <th>2</th>\n",
       "      <td>2012-01-10</td>\n",
       "      <td>50.458333</td>\n",
       "      <td>1.326154e+12</td>\n",
       "    </tr>\n",
       "    <tr>\n",
       "      <th>3</th>\n",
       "      <td>2012-01-11</td>\n",
       "      <td>43.650000</td>\n",
       "      <td>1.326240e+12</td>\n",
       "    </tr>\n",
       "    <tr>\n",
       "      <th>4</th>\n",
       "      <td>2012-01-12</td>\n",
       "      <td>49.941176</td>\n",
       "      <td>1.326326e+12</td>\n",
       "    </tr>\n",
       "    <tr>\n",
       "      <th>5</th>\n",
       "      <td>2012-01-13</td>\n",
       "      <td>54.434783</td>\n",
       "      <td>1.326413e+12</td>\n",
       "    </tr>\n",
       "    <tr>\n",
       "      <th>6</th>\n",
       "      <td>2012-01-16</td>\n",
       "      <td>50.937500</td>\n",
       "      <td>1.326672e+12</td>\n",
       "    </tr>\n",
       "    <tr>\n",
       "      <th>7</th>\n",
       "      <td>2012-01-17</td>\n",
       "      <td>45.250000</td>\n",
       "      <td>1.326758e+12</td>\n",
       "    </tr>\n",
       "    <tr>\n",
       "      <th>8</th>\n",
       "      <td>2012-01-18</td>\n",
       "      <td>23.800000</td>\n",
       "      <td>1.326845e+12</td>\n",
       "    </tr>\n",
       "    <tr>\n",
       "      <th>9</th>\n",
       "      <td>2012-01-19</td>\n",
       "      <td>42.400000</td>\n",
       "      <td>1.326931e+12</td>\n",
       "    </tr>\n",
       "  </tbody>\n",
       "</table>\n",
       "</div>"
      ],
      "text/plain": [
       "        Date  Order_Demand      unixTime\n",
       "0 2012-01-05     50.125000  1.325722e+12\n",
       "1 2012-01-06     66.500000  1.325808e+12\n",
       "2 2012-01-10     50.458333  1.326154e+12\n",
       "3 2012-01-11     43.650000  1.326240e+12\n",
       "4 2012-01-12     49.941176  1.326326e+12\n",
       "5 2012-01-13     54.434783  1.326413e+12\n",
       "6 2012-01-16     50.937500  1.326672e+12\n",
       "7 2012-01-17     45.250000  1.326758e+12\n",
       "8 2012-01-18     23.800000  1.326845e+12\n",
       "9 2012-01-19     42.400000  1.326931e+12"
      ]
     },
     "execution_count": 13,
     "metadata": {},
     "output_type": "execute_result"
    }
   ],
   "source": [
    "avgProd=df_Product.groupby('Date', as_index=False).Order_Demand.mean()\n",
    "dt=avgProd['Date']\n",
    "dt = pd.DatetimeIndex ( dt ).astype ( np.int64 )/1000000\n",
    "avgProd['unixTime']=dt\n",
    "avgProd.head(10)"
   ]
  },
  {
   "cell_type": "code",
   "execution_count": 14,
   "metadata": {},
   "outputs": [],
   "source": [
    "avgProd = avgProd.set_index('Date')"
   ]
  },
  {
   "cell_type": "code",
   "execution_count": 15,
   "metadata": {},
   "outputs": [
    {
     "data": {
      "image/png": "[encoded data removed]",
      "text/plain": [
       "<Figure size 432x288 with 1 Axes>"
      ]
     },
     "metadata": {},
     "output_type": "display_data"
    }
   ],
   "source": [
    "fig = plt.figure()\n",
    "ax= fig.add_subplot(1,1,1)\n",
    "ax.scatter(avgProd['unixTime'],avgProd['Order_Demand'], marker='.')\n",
    "plt.xlim(1.40e+12, 1.4075e+12)\n",
    "ax.set_ylabel('Order Demand');\n",
    "ax.set_xlabel('Date');"
   ]
  },
  {
   "cell_type": "markdown",
   "metadata": {},
   "source": [
    "Plot looks much cleaner now that a time only has one data point"
   ]
  },
  {
   "cell_type": "code",
   "execution_count": 17,
   "metadata": {},
   "outputs": [
    {
     "data": {
      "text/plain": [
       "Text(0,0.5,'Order Demand')"
      ]
     },
     "execution_count": 17,
     "metadata": {},
     "output_type": "execute_result"
    },
    {
     "data": {
      "image/png": "[encoded data removed]",
      "text/plain": [
       "<Figure size 432x288 with 1 Axes>"
      ]
     },
     "metadata": {},
     "output_type": "display_data"
    }
   ],
   "source": [
    "fig = plt.figure()\n",
    "ax = fig.add_subplot(111)\n",
    "ax.set_xticklabels(avgProd.index.values, rotation=25)\n",
    "ax.plot_date(x=avgProd.index.values, y=avgProd.Order_Demand, ls='-', marker='|')\n",
    "ax=plt.gca()\n",
    "xfmt = md.DateFormatter('%Y-%m-%d')\n",
    "ax.xaxis.set_major_formatter(xfmt)\n",
    "plt.title(\"Order Demand Line Plot\")\n",
    "plt.xlabel(\"Date\")\n",
    "plt.ylabel(\"Order Demand\")"
   ]
  },
  {
   "cell_type": "code",
   "execution_count": 18,
   "metadata": {},
   "outputs": [
    {
     "data": {
      "text/plain": [
       "Text(0,0.5,'Frequency')"
      ]
     },
     "execution_count": 18,
     "metadata": {},
     "output_type": "execute_result"
    },
    {
     "data": {
      "image/png": "[encoded data removed]",
      "text/plain": [
       "<Figure size 432x288 with 1 Axes>"
      ]
     },
     "metadata": {},
     "output_type": "display_data"
    }
   ],
   "source": [
    "df_Product['Date'].value_counts().sort_values().plot.line()\n",
    "plt.title(\"Date Line Plot\")\n",
    "plt.xlabel(\"Date\")\n",
    "plt.ylabel(\"Frequency\")"
   ]
  },
  {
   "cell_type": "markdown",
   "metadata": {},
   "source": [
    "## Autocorrelation Plot"
   ]
  },
  {
   "cell_type": "code",
   "execution_count": 38,
   "metadata": {},
   "outputs": [
    {
     "data": {
      "image/png": "[encoded data removed]",
      "text/plain": [
       "<Figure size 432x288 with 1 Axes>"
      ]
     },
     "metadata": {},
     "output_type": "display_data"
    }
   ],
   "source": [
    "from pandas.plotting import autocorrelation_plot\n",
    "\n",
    "autocorrelation_plot(avgProd['Order_Demand'])\n",
    "plt.ylim(-.1,.1)\n",
    "plt.show()\n"
   ]
  },
  {
   "cell_type": "markdown",
   "metadata": {},
   "source": [
    "## Seasonal Decompose"
   ]
  },
  {
   "cell_type": "code",
   "execution_count": 31,
   "metadata": {},
   "outputs": [],
   "source": [
    "from statsmodels.tsa.seasonal import seasonal_decompose\n",
    "series = pd.Series(avgProd['Order_Demand'])\n",
    "result = seasonal_decompose(series, model='multiplicative', freq=100)"
   ]
  },
  {
   "cell_type": "code",
   "execution_count": 32,
   "metadata": {
    "scrolled": true
   },
   "outputs": [
    {
     "data": {
      "image/png": "[encoded data removed]",
      "text/plain": [
       "<Figure size 432x288 with 4 Axes>"
      ]
     },
     "metadata": {},
     "output_type": "display_data"
    }
   ],
   "source": [
    "result.plot()\n",
    "plt.show()"
   ]
  },
  {
   "cell_type": "markdown",
   "metadata": {},
   "source": [
    "## Smoothing Plot:"
   ]
  },
  {
   "cell_type": "code",
   "execution_count": 37,
   "metadata": {},
   "outputs": [
    {
     "data": {
      "image/png": "[encoded data removed]",
      "text/plain": [
       "<Figure size 432x288 with 1 Axes>"
      ]
     },
     "metadata": {},
     "output_type": "display_data"
    }
   ],
   "source": [
    "from scipy.signal import savgol_filter\n",
    "\n",
    "fig = plt.figure()\n",
    "ax= fig.add_subplot(1,1,1)\n",
    "x=avgProd.index.values\n",
    "y=avgProd['Order_Demand']\n",
    "yhat = savgol_filter(y, 51, 3)\n",
    "\n",
    "ax=plt.gca()\n",
    "xfmt = md.DateFormatter('%Y-%m-%d')\n",
    "ax.xaxis.set_major_formatter(xfmt)\n",
    "plt.xticks( rotation=25 )\n",
    "ax.set_ylabel('Order Demand');\n",
    "ax.set_xlabel('Date');\n",
    "plt.title(\"Smoothing Order Demand Plot\")\n",
    "\n",
    "plt.plot(x,y)\n",
    "plt.plot(x,yhat, color='red')\n",
    "plt.show()"
   ]
  },
  {
   "cell_type": "code",
   "execution_count": 34,
   "metadata": {},
   "outputs": [],
   "source": [
    "from sklearn.model_selection import train_test_split\n",
    "labels = df_Product['Order_Demand']\n",
    "features = df_Product[['year' , 'month', 'Code', 'day', 'WarehouseLE', 'CategoryLE']]\n",
    "X_train, X_test, y_train, y_test = train_test_split(features, \n",
    "                                                    labels, \n",
    "                                                    test_size=0.20, \n",
    "                                                    random_state=42)"
   ]
  },
  {
   "cell_type": "markdown",
   "metadata": {},
   "source": [
    "# Gradient Boosting:"
   ]
  },
  {
   "cell_type": "code",
   "execution_count": 35,
   "metadata": {},
   "outputs": [
    {
     "name": "stdout",
     "output_type": "stream",
     "text": [
      "-0.004289705894206408\n"
     ]
    }
   ],
   "source": [
    "from sklearn.ensemble import GradientBoostingRegressor\n",
    "GBR = GradientBoostingRegressor()\n",
    "model = GBR.fit(X_train, y_train.values.ravel())\n",
    "prediction = model.predict(X_test)\n",
    "print(GBR.score(X_test, y_test))"
   ]
  },
  {
   "cell_type": "markdown",
   "metadata": {},
   "source": [
    "# Random Forest Regressor"
   ]
  },
  {
   "cell_type": "code",
   "execution_count": 36,
   "metadata": {},
   "outputs": [
    {
     "name": "stdout",
     "output_type": "stream",
     "text": [
      "-0.11752945764840805\n"
     ]
    },
    {
     "name": "stderr",
     "output_type": "stream",
     "text": [
      "C:\\Users\\Sandy\\AppData\\Roaming\\Python\\Python36\\site-packages\\sklearn\\ensemble\\forest.py:245: FutureWarning: The default value of n_estimators will change from 10 in version 0.20 to 100 in 0.22.\n",
      "  \"10 in version 0.20 to 100 in 0.22.\", FutureWarning)\n"
     ]
    }
   ],
   "source": [
    "from sklearn.ensemble import RandomForestRegressor\n",
    "RFR = RandomForestRegressor()\n",
    "model = RFR.fit(X_train, y_train.values.ravel())\n",
    "prediction = model.predict(X_test)\n",
    "print(RFR.score(X_test, y_test))"
   ]
  },
  {
   "cell_type": "markdown",
   "metadata": {},
   "source": [
    "https://www.dataquest.io/blog/tutorial-time-series-analysis-with-pandas/\n",
    "https://stackoverflow.com/questions/20618804/how-to-smooth-a-curve-in-the-right-way\n",
    "https://machinelearningmastery.com/decompose-time-series-data-trend-seasonality/"
   ]
  }
 ],
 "metadata": {
  "kernelspec": {
   "display_name": "Python 3",
   "language": "python",
   "name": "python3"
  },
  "language_info": {
   "codemirror_mode": {
    "name": "ipython",
    "version": 3
   },
   "file_extension": ".py",
   "mimetype": "text/x-python",
   "name": "python",
   "nbconvert_exporter": "python",
   "pygments_lexer": "ipython3",
   "version": "3.6.5"
  }
 },
 "nbformat": 4,
 "nbformat_minor": 2
}
